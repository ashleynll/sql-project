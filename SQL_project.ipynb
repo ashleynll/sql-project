{
  "nbformat": 4,
  "nbformat_minor": 0,
  "metadata": {
    "colab": {
      "provenance": []
    },
    "kernelspec": {
      "name": "python3",
      "display_name": "Python 3"
    },
    "language_info": {
      "name": "python"
    }
  },
  "cells": [
    {
      "cell_type": "markdown",
      "source": [
        "\n",
        "This SQL project uses SQLite and Python to answer questions about an imaginary music store, \"Chinook\"\n",
        "\n",
        "albums: information about the albums that the store sells individual tracks from\n",
        "\n",
        "tracks: information about the tracks present in an album like name, genre, composer, milliseconds etc.\n",
        "\n",
        "artists: information about the artists (individual musicians or groups) that made the albums and tracks\n",
        "\n",
        "customers: information about the customers of the store\n",
        "\n",
        "employees: information about the employees of the store\n",
        "\n",
        "genres: information about the musical genres associated with tracks\n",
        "\n",
        "invoice Items: information about Individual tracks sold, linked to invoices\n",
        "\n",
        "invoices: information about each sale to a customer of one or more tracks\n",
        "\n",
        "media types: formats in which tracks are sold\n",
        "\n",
        "playlists: information about playlists, which each consist of a set of tracks\n",
        "\n",
        "playlist_track: relationships between playlists and tracks\n"
      ],
      "metadata": {
        "id": "ahscJcGjisAf"
      }
    },
    {
      "cell_type": "markdown",
      "source": [
        "1.In the invoices table, some of the cities are tied for having the most invoices. Return a sorted list of these cities and how many invoices they have."
      ],
      "metadata": {
        "id": "GHgaL4nvNbZA"
      }
    },
    {
      "cell_type": "code",
      "source": [
        "def MostInvoiceCities():\n",
        "  q='''\n",
        "  select BillingCity from (\n",
        "  select i.BillingCity , count(*) as INVOICECOUNT from invoices i\n",
        "  group by i.BillingCity\n",
        "  Having count(*)=14 order by INVOICECOUNT desc )\n",
        "  '''\n",
        "  x=pd.read_sql_query(q,conn)\n",
        "  return x['BillingCity'].tolist()\n",
        "\n",
        "def nInvoices():\n",
        "  q='''\n",
        "  select INVOICECOUNT from (\n",
        "  select i.BillingCity , count(*) as INVOICECOUNT from invoices i\n",
        "  group by i.BillingCity order by INVOICECOUNT desc)\n",
        "  '''\n",
        "  ans=pd.read_sql_query(q,conn)\n",
        "  return ans.iloc[0]['INVOICECOUNT']\n",
        "#print(MostInvoiceCities())\n",
        "print(nInvoices())\n"
      ],
      "metadata": {
        "colab": {
          "base_uri": "https://localhost:8080/"
        },
        "id": "nnRpEnbAWV_H",
        "outputId": "1cf0f449-a959-412a-e8ab-9e9e6299dce8"
      },
      "execution_count": null,
      "outputs": [
        {
          "output_type": "stream",
          "name": "stdout",
          "text": [
            "14\n"
          ]
        }
      ]
    },
    {
      "cell_type": "markdown",
      "source": [
        "2. Return a list containing the first and last names of the customer who purchased the most rock tracks and the number of rock tracks they purchased.\n",
        "\n"
      ],
      "metadata": {
        "id": "I95IPWdoNdOd"
      }
    },
    {
      "cell_type": "code",
      "source": [
        "def CustomerMostRock():\n",
        "  q='''\n",
        "  select c.FirstName, c.LastName, i.InvoiceId , count(*) as COUNT from customers c\n",
        "  join invoices i on c.CustomerId =i.CustomerId\n",
        "  join invoice_items ii on i.InvoiceId=ii.InvoiceId\n",
        "  join tracks t on ii.TrackId=t.TrackId\n",
        "  where GenreId=1 group by i.CustomerId\n",
        "  order by COUNT desc\n",
        "  '''\n",
        "  x=pd.read_sql_query(q,conn)\n",
        "  return[ x.iloc[0]['FirstName'],x.iloc[0]['LastName'],x.iloc[0]['COUNT']]\n",
        "\n",
        "print(CustomerMostRock())"
      ],
      "metadata": {
        "colab": {
          "base_uri": "https://localhost:8080/"
        },
        "id": "ZZbeeKE1bp9i",
        "outputId": "ae8393f7-7ff0-4bfe-dcba-7cc9bfaa8ee9"
      },
      "execution_count": null,
      "outputs": [
        {
          "output_type": "stream",
          "name": "stdout",
          "text": [
            "['Eduardo', 'Martins', 29]\n"
          ]
        }
      ]
    },
    {
      "cell_type": "markdown",
      "source": [
        "3. How many distinct jazz tracks were purchased?\n"
      ],
      "metadata": {
        "id": "NTGDx7ZZOUCa"
      }
    },
    {
      "cell_type": "code",
      "source": [
        "def DistinctJazzTracks():\n",
        "  q='''\n",
        "  select count( distinct t.TrackId) as JAZZ FROM tracks t\n",
        "  join invoice_items ii on t.TrackId=ii.TrackId where GenreId=2\n",
        "  '''\n",
        "  x=pd.read_sql_query(q,conn)\n",
        "  return x\n",
        "\n",
        "print(DistinctJazzTracks())"
      ],
      "metadata": {
        "colab": {
          "base_uri": "https://localhost:8080/"
        },
        "id": "uK4mGIMHksH3",
        "outputId": "a985fa56-8b38-44ad-b5c5-4b77b7b43cf5"
      },
      "execution_count": null,
      "outputs": [
        {
          "output_type": "stream",
          "name": "stdout",
          "text": [
            "   JAZZ\n",
            "0    68\n"
          ]
        }
      ]
    },
    {
      "cell_type": "markdown",
      "source": [
        "4. Reuturn a Python dictionary of those customers that bought more than 10 metal tracks, where the keys are their last names and the values are the number of tracks they bought."
      ],
      "metadata": {
        "id": "IcxnTLKcObOD"
      }
    },
    {
      "cell_type": "code",
      "source": [
        "def TopMetalCustomers():\n",
        "  q='''\n",
        "  select c.LastName, count(*) as COUNT from customers c\n",
        "  join invoices i on c.CustomerId = i.CustomerId\n",
        "  join invoice_items ii on i.InvoiceId=ii.InvoiceId\n",
        "  join tracks t on ii.TrackId=t.TrackId\n",
        "  where t.GenreId=3\n",
        "  group by c.CustomerId\n",
        "  having COUNT>10\n",
        "  '''\n",
        "  x=pd.read_sql_query(q, conn)\n",
        "  return x.set_index('LastName')['COUNT'].to_dict()\n",
        "\n",
        "print(TopMetalCustomers())"
      ],
      "metadata": {
        "colab": {
          "base_uri": "https://localhost:8080/"
        },
        "id": "hRJcwWx7nxJN",
        "outputId": "bdc0a7ed-d643-43a0-f24e-f81f81ae52ae"
      },
      "execution_count": null,
      "outputs": [
        {
          "output_type": "stream",
          "name": "stdout",
          "text": [
            "{'Harris': 12, 'Leacock': 12, 'Schneider': 18, 'Girard': 14}\n"
          ]
        }
      ]
    },
    {
      "cell_type": "markdown",
      "source": [
        "5. Write a Python function that returns the number of albums that more than 25 but less than 50 dollars worth of tracks."
      ],
      "metadata": {
        "id": "_ZRoDveAPQg0"
      }
    },
    {
      "cell_type": "code",
      "source": [
        "def CountAlbums():\n",
        "    query='''\n",
        "    SELECT  t.AlbumId, SUM(t.UnitPrice) AS Total\n",
        "    FROM tracks t\n",
        "    JOIN invoice_items ii ON t.TrackId=ii.TrackId\n",
        "    GROUP BY t.AlbumId\n",
        "    HAVING SUM(t.UnitPrice) > 25 AND SUM(t.UnitPrice) < 50\n",
        "    '''\n",
        "    ans=pd.read_sql_query(query,conn)\n",
        "    return len(ans)\n",
        "\n",
        "x=CountAlbums()\n",
        "print(x)"
      ],
      "metadata": {
        "colab": {
          "base_uri": "https://localhost:8080/"
        },
        "id": "g7tdxE-hnkMM",
        "outputId": "592b80f2-f65a-469f-ef51-a3596375aa1b"
      },
      "execution_count": null,
      "outputs": [
        {
          "output_type": "stream",
          "name": "stdout",
          "text": [
            "6\n"
          ]
        }
      ]
    },
    {
      "cell_type": "markdown",
      "source": [
        "6. Write a Python function that returns a sorted Python list of the genres that had sales between 50 and 100 dollars"
      ],
      "metadata": {
        "id": "IvjoqpyvTI0X"
      }
    },
    {
      "cell_type": "code",
      "source": [
        "def GenresRange():\n",
        "    query = '''\n",
        "    SELECT g.Name, SUM(ii.UnitPrice) AS Total\n",
        "    FROM genres g\n",
        "    JOIN tracks t ON g.GenreId = t.GenreId\n",
        "    JOIN invoice_items ii ON t.TrackId = ii.TrackId\n",
        "    GROUP BY g.GenreId\n",
        "    HAVING Total >= 50 AND Total <= 100 ORDER BY g.Name ASC\n",
        "    '''\n",
        "    ans = pd.read_sql_query(query, conn)\n",
        "    return ans['Name'].tolist()\n",
        "\n",
        "x = GenresRange()\n",
        "print(x)"
      ],
      "metadata": {
        "colab": {
          "base_uri": "https://localhost:8080/"
        },
        "id": "ByTsTh_gDD3L",
        "outputId": "ee8923d8-4590-4c74-d69e-99f251859f24"
      },
      "execution_count": null,
      "outputs": [
        {
          "output_type": "stream",
          "name": "stdout",
          "text": [
            "['Blues', 'Drama', 'Jazz', 'TV Shows']\n"
          ]
        }
      ]
    },
    {
      "cell_type": "markdown",
      "source": [
        "7.Write a Python functionwhich returns a sorted list of the artist names that have exactly three albums in the database."
      ],
      "metadata": {
        "id": "VU0tg0utTW3a"
      }
    },
    {
      "cell_type": "code",
      "source": [
        "def Artists3():\n",
        "    query='''\n",
        "    SELECT a.Name, COUNT(alb.AlbumId) as AlbumCount\n",
        "    FROM artists a\n",
        "    JOIN albums alb ON a.ArtistId=alb.ArtistId\n",
        "    GROUP BY a.ArtistId\n",
        "    HAVING COUNT(alb.AlbumId)=3\n",
        "    ORDER BY a.Name\n",
        "    '''\n",
        "    ans=pd.read_sql_query(query,conn)\n",
        "    return ans['Name'].tolist()\n",
        "x=Artists3()\n",
        "print(x)"
      ],
      "metadata": {
        "colab": {
          "base_uri": "https://localhost:8080/"
        },
        "id": "vP3pVaQJDFy6",
        "outputId": "abfb8873-ff41-49f5-ffdf-7a563616744b"
      },
      "execution_count": null,
      "outputs": [
        {
          "output_type": "stream",
          "name": "stdout",
          "text": [
            "['Audioslave', 'Berliner Philharmoniker & Herbert Von Karajan', 'Eugene Ormandy', 'Gilberto Gil', \"Guns N' Roses\", 'Jamiroquai', 'Miles Davis', 'Os Paralamas Do Sucesso', 'Queen', 'R.E.M.', 'Red Hot Chili Peppers', 'Santana', 'The Office', 'The Rolling Stones']\n"
          ]
        }
      ]
    },
    {
      "cell_type": "markdown",
      "source": [
        "8.How many artists ahve at least one album?"
      ],
      "metadata": {
        "id": "wKoTDZBoToH9"
      }
    },
    {
      "cell_type": "code",
      "source": [
        "def CountArtistsWithAlbums():\n",
        "    query='''\n",
        "    SELECT COUNT(a.AlbumId), a.ArtistId\n",
        "    FROM albums a\n",
        "    GROUP BY a.ArtistId\n",
        "    HAVING COUNT(a.AlbumId)>=1\n",
        "    '''\n",
        "    ans=pd.read_sql_query(query,conn)\n",
        "    return len(ans)\n",
        "x=CountArtistsWithAlbums()\n",
        "print(x)"
      ],
      "metadata": {
        "colab": {
          "base_uri": "https://localhost:8080/"
        },
        "id": "wwz2AfnYD1P4",
        "outputId": "360e9135-0cae-4160-9beb-4b525d8191bc"
      },
      "execution_count": null,
      "outputs": [
        {
          "output_type": "stream",
          "name": "stdout",
          "text": [
            "204\n"
          ]
        }
      ]
    },
    {
      "cell_type": "markdown",
      "source": [
        "9.Write a Python which returns the name of the fifth longest album, in terms of the total milliseconds of its tracks as stored in the database."
      ],
      "metadata": {
        "id": "UFLMOFO5TxsH"
      }
    },
    {
      "cell_type": "code",
      "source": [
        "def FifthLongestAlbum():\n",
        "    query = '''\n",
        "    SELECT a.Title\n",
        "    FROM albums a\n",
        "    JOIN (\n",
        "         SELECT AlbumID, SUM(Milliseconds) AS TotalLength\n",
        "         FROM tracks\n",
        "         GROUP BY AlbumID\n",
        "    ) AS t ON a.AlbumID = t.AlbumID\n",
        "    ORDER BY t.TotalLength DESC\n",
        "    LIMIT 1 OFFSET 4\n",
        "    '''\n",
        "    answer = pd.read_sql_query(query, conn)\n",
        "    return answer.iloc[0]['Title']\n",
        "p1_answer=FifthLongestAlbum()\n",
        "print(p1_answer)"
      ],
      "metadata": {
        "colab": {
          "base_uri": "https://localhost:8080/"
        },
        "id": "KkqPwO24D7ht",
        "outputId": "96b6c806-cfb1-4979-820c-3120d625d5f9"
      },
      "execution_count": null,
      "outputs": [
        {
          "output_type": "stream",
          "name": "stdout",
          "text": [
            "Heroes, Season 1\n"
          ]
        }
      ]
    },
    {
      "cell_type": "markdown",
      "source": [
        "10.Write a function CitiesMultipleCodes() that returns a sorted list of those billing cities (column BillingCity) in the invoices table that have more than one different BillingPostalCode.\n",
        "\n"
      ],
      "metadata": {
        "id": "AuZySPTST7vj"
      }
    },
    {
      "cell_type": "code",
      "source": [
        "def CitiesMultipleCodes():\n",
        "    query = '''\n",
        "    SELECT i.BillingCity, COUNT(DISTINCT i.BillingPostalCode) AS PostalCodeCount\n",
        "    FROM invoices i\n",
        "    GROUP BY i.BillingCity\n",
        "    HAVING COUNT(DISTINCT i.BillingPostalCode) > 1\n",
        "    ORDER BY i.BillingCity ASC\n",
        "    '''\n",
        "    ans = pd.read_sql_query(query, conn)\n",
        "    return ans['BillingCity'].tolist()\n",
        "x = CitiesMultipleCodes()\n",
        "print(x)"
      ],
      "metadata": {
        "colab": {
          "base_uri": "https://localhost:8080/"
        },
        "id": "mYZeDui5EHjQ",
        "outputId": "c2f4140c-f1c8-42a7-e7e3-5fa4052691e4"
      },
      "execution_count": null,
      "outputs": [
        {
          "output_type": "stream",
          "name": "stdout",
          "text": [
            "['Berlin', 'London', 'Mountain View', 'Paris', 'Prague', 'São Paulo']\n"
          ]
        }
      ]
    },
    {
      "cell_type": "markdown",
      "source": [
        "11. Find the number of tracks per artist. Call this trackcount. Using a window function, partition the artists by trackcount into quintiles; that means that the 20% of artists with the most tracks are in quintile 1, etc. What artist is at the bottom of quintile 1? That is, they are in the top 20% in terms of tracks, but they have fewer tracks than any other artist in that quintile."
      ],
      "metadata": {
        "id": "mGkhLXARs5KY"
      }
    },
    {
      "cell_type": "code",
      "source": [
        "def Quintile():\n",
        "  q='''\n",
        "  select * from (\n",
        "  select *, ntile(5) over (order by TRACKCOUNT desc) as quintile from (\n",
        "  select a.Name, count(*) as TRACKCOUNT from artists a\n",
        "  join albums al on a.ArtistId=al.ArtistId\n",
        "  join tracks t on al.AlbumId=t.AlbumId\n",
        "  group by a.Name ) ) where quintile =1 order by TRACKCOUNT asc\n",
        "\n",
        "  '''\n",
        "  x=pd.read_sql_query(q,conn)\n",
        "  return x.iloc[0]['Name']\n",
        "print(Quintile())"
      ],
      "metadata": {
        "colab": {
          "base_uri": "https://localhost:8080/"
        },
        "id": "J3DoE2i-adHu",
        "outputId": "a719f357-09dc-41fe-8fd7-5db038401fe8"
      },
      "execution_count": null,
      "outputs": [
        {
          "output_type": "stream",
          "name": "stdout",
          "text": [
            "Santana\n"
          ]
        }
      ]
    },
    {
      "cell_type": "markdown",
      "source": [
        "\n",
        "12.Building on the previous question, when you rank artists using the rank() window function within each quintile by descending trackcount, two artists are tied for the rank of 10 in quintile 2. Who are they?"
      ],
      "metadata": {
        "id": "-i8F_5SjfF4I"
      }
    },
    {
      "cell_type": "code",
      "source": [
        "def Rank():\n",
        "  q='''\n",
        "  select * ,rank () over (order by TRACKCOUNT desc)as rank from (\n",
        "  select *, ntile(5) over (order by TRACKCOUNT desc) as quintile from (\n",
        "  select a.Name, count(*) as TRACKCOUNT from artists a\n",
        "  join albums al on a.ArtistId=al.ArtistId\n",
        "  join tracks t on al.AlbumId=t.AlbumId\n",
        "  group by a.Name ) ) where quintile=2 limit 2 offset 9\n",
        "\n",
        "  '''\n",
        "  x=pd.read_sql_query(q,conn)\n",
        "  return x['Name'].tolist()\n",
        "print(Rank())"
      ],
      "metadata": {
        "colab": {
          "base_uri": "https://localhost:8080/"
        },
        "id": "fh3PoRRge_3W",
        "outputId": "ff84f930-9be2-4d6e-c3ae-cfabbf742c3e"
      },
      "execution_count": null,
      "outputs": [
        {
          "output_type": "stream",
          "name": "stdout",
          "text": [
            "['Caetano Veloso', 'Spyro Gyra']\n"
          ]
        }
      ]
    }
  ]
}